{
  "cells": [
    {
      "cell_type": "markdown",
      "metadata": {
        "id": "view-in-github",
        "colab_type": "text"
      },
      "source": [
        "<a href=\"https://colab.research.google.com/github/jcmachicao/cuf__programacion/blob/main/cfu_03__graficos_matplotlib_plotly.ipynb\" target=\"_parent\"><img src=\"https://colab.research.google.com/assets/colab-badge.svg\" alt=\"Open In Colab\"/></a>"
      ]
    },
    {
      "cell_type": "markdown",
      "id": "b3221922",
      "metadata": {
        "id": "b3221922"
      },
      "source": [
        "# 📊 Introducción a Gráficos en Python\n",
        "\n",
        "Este notebook muestra cómo crear gráficos básicos con `matplotlib` y `plotly.express` usando datos simples."
      ]
    },
    {
      "cell_type": "markdown",
      "id": "cfbf3224",
      "metadata": {
        "id": "cfbf3224"
      },
      "source": [
        "## 📈 Gráficos con Matplotlib"
      ]
    },
    {
      "cell_type": "code",
      "execution_count": null,
      "id": "6e855e53",
      "metadata": {
        "id": "6e855e53"
      },
      "outputs": [],
      "source": [
        "import matplotlib.pyplot as plt\n",
        "\n",
        "# Datos simples\n",
        "meses = [\"Ene\", \"Feb\", \"Mar\", \"Abr\", \"May\"]\n",
        "ventas = [250, 300, 280, 350, 400]\n",
        "\n",
        "# Crear un gráfico de líneas\n",
        "plt.figure(figsize=(8, 5))\n",
        "plt.plot(meses, ventas, marker='o', linestyle='-', color='teal')\n",
        "plt.title(\"Ventas mensuales\")\n",
        "plt.xlabel(\"Meses\")\n",
        "plt.ylabel(\"Ventas ($)\")\n",
        "plt.grid(True)\n",
        "plt.show()"
      ]
    },
    {
      "cell_type": "code",
      "execution_count": null,
      "id": "dd452c08",
      "metadata": {
        "id": "dd452c08"
      },
      "outputs": [],
      "source": [
        "# Gráfico de barras\n",
        "plt.figure(figsize=(8, 5))\n",
        "plt.bar(meses, ventas, color='coral')\n",
        "plt.title(\"Ventas mensuales - Barras\")\n",
        "plt.xlabel(\"Meses\")\n",
        "plt.ylabel(\"Ventas ($)\")\n",
        "plt.show()"
      ]
    },
    {
      "cell_type": "markdown",
      "id": "4e0f67d0",
      "metadata": {
        "id": "4e0f67d0"
      },
      "source": [
        "## 🌐 Gráficos Interactivos con Plotly Express"
      ]
    },
    {
      "cell_type": "code",
      "execution_count": null,
      "id": "70390dfc",
      "metadata": {
        "id": "70390dfc"
      },
      "outputs": [],
      "source": [
        "import plotly.express as px\n",
        "import pandas as pd\n",
        "\n",
        "# Crear un DataFrame\n",
        "df = pd.DataFrame({\n",
        "    \"Mes\": meses,\n",
        "    \"Ventas\": ventas\n",
        "})\n",
        "\n",
        "# Gráfico de líneas interactivo\n",
        "fig = px.line(df, x=\"Mes\", y=\"Ventas\", title=\"Ventas mensuales (interactivo)\", markers=True)\n",
        "fig.show()"
      ]
    },
    {
      "cell_type": "code",
      "execution_count": null,
      "id": "3f108fe3",
      "metadata": {
        "id": "3f108fe3"
      },
      "outputs": [],
      "source": [
        "# Gráfico de barras interactivo\n",
        "fig_bar = px.bar(df, x=\"Mes\", y=\"Ventas\", title=\"Ventas mensuales (barras interactivas)\", color=\"Mes\")\n",
        "fig_bar.show()"
      ]
    }
  ],
  "metadata": {
    "colab": {
      "provenance": [],
      "include_colab_link": true
    },
    "language_info": {
      "name": "python"
    },
    "kernelspec": {
      "name": "python3",
      "display_name": "Python 3"
    }
  },
  "nbformat": 4,
  "nbformat_minor": 5
}