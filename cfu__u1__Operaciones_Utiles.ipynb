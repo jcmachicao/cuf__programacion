{
  "nbformat": 4,
  "nbformat_minor": 0,
  "metadata": {
    "colab": {
      "provenance": [],
      "authorship_tag": "ABX9TyNoHzHwF3snl8zZyvelWucH",
      "include_colab_link": true
    },
    "kernelspec": {
      "name": "python3",
      "display_name": "Python 3"
    },
    "language_info": {
      "name": "python"
    }
  },
  "cells": [
    {
      "cell_type": "markdown",
      "metadata": {
        "id": "view-in-github",
        "colab_type": "text"
      },
      "source": [
        "<a href=\"https://colab.research.google.com/github/jcmachicao/cuf__programacion/blob/main/U1_Operaciones_Utiles.ipynb\" target=\"_parent\"><img src=\"https://colab.research.google.com/assets/colab-badge.svg\" alt=\"Open In Colab\"/></a>"
      ]
    },
    {
      "cell_type": "markdown",
      "source": [
        "Continental University of Florida<br>\n",
        "Programming Techniques<br>\n",
        "José Machicao<br>\n",
        "# Operaciones Utiles para hacer en Python\n",
        "Este cuaderno es una base de ideas para familiarizarse con Python, dirigido a profesionales que empiezan con programación alineada a sus objetivos académicos y laborales"
      ],
      "metadata": {
        "id": "oLBmXqogatsD"
      }
    },
    {
      "cell_type": "markdown",
      "source": [
        "## Conectarse a Google Drive"
      ],
      "metadata": {
        "id": "6l5A62GabnGz"
      }
    },
    {
      "cell_type": "code",
      "source": [
        "from google.colab import drive\n",
        "drive.mount('/gdrive')"
      ],
      "metadata": {
        "id": "P-fOryJ8bqI7"
      },
      "execution_count": null,
      "outputs": []
    },
    {
      "cell_type": "markdown",
      "source": [
        "## Manipulación básica de archivos"
      ],
      "metadata": {
        "id": "Fez1tUpcbHbr"
      }
    },
    {
      "cell_type": "code",
      "source": [
        "import os"
      ],
      "metadata": {
        "id": "3W-r7r-0bP-T"
      },
      "execution_count": null,
      "outputs": []
    },
    {
      "cell_type": "code",
      "execution_count": null,
      "metadata": {
        "id": "6Qri7zk-aoPr"
      },
      "outputs": [],
      "source": [
        "# Hace la lista de todos los archivos en un folder\n",
        "files = os.listdir('.')\n",
        "print(files)"
      ]
    },
    {
      "cell_type": "code",
      "source": [
        "# Renombra un archivo\n",
        "os.rename('old_filename.txt', 'new_filename.txt')"
      ],
      "metadata": {
        "id": "wXaAcBPvbWib"
      },
      "execution_count": null,
      "outputs": []
    },
    {
      "cell_type": "code",
      "source": [
        "# Mueve un archivo a otro directorio\n",
        "os.makedirs('new_directory', exist_ok=True)\n",
        "os.rename('filename.txt', 'new_directory/filename.txt')"
      ],
      "metadata": {
        "id": "VuHU70EjbaWT"
      },
      "execution_count": null,
      "outputs": []
    },
    {
      "cell_type": "code",
      "source": [
        "# Elimina un archivo (mucho cuidado)\n",
        "os.remove('filename.txt')"
      ],
      "metadata": {
        "id": "hcDMwKjdbbxb"
      },
      "execution_count": null,
      "outputs": []
    },
    {
      "cell_type": "markdown",
      "source": [
        "## Manipulación básica de textos"
      ],
      "metadata": {
        "id": "8N3jW7IUcAT7"
      }
    },
    {
      "cell_type": "code",
      "source": [
        "# Leer un archivo de texto y visualizar su contenido\n",
        "with open('filename.txt', 'r') as f:\n",
        "    contents = f.read()\n",
        "    print(contents)"
      ],
      "metadata": {
        "id": "1FCaDMELc--D"
      },
      "execution_count": null,
      "outputs": []
    },
    {
      "cell_type": "code",
      "source": [
        "# Contar el número de palabras en un archivo de texto\n",
        "with open('filename.txt', 'r') as f:\n",
        "    contents = f.read()\n",
        "    words = contents.split()\n",
        "    print(len(words))"
      ],
      "metadata": {
        "id": "McKS4i9Ic-zT"
      },
      "execution_count": null,
      "outputs": []
    },
    {
      "cell_type": "code",
      "source": [
        "# Encontrar y reemplazar una palabra en un texto\n",
        "with open('filename.txt', 'r') as f:\n",
        "    contents = f.read()\n",
        "    new_contents = contents.replace('old_word', 'new_word')\n",
        "    with open('new_filename.txt', 'w') as g:\n",
        "        g.write(new_contents)"
      ],
      "metadata": {
        "id": "K7_tzW9rcFDi"
      },
      "execution_count": null,
      "outputs": []
    },
    {
      "cell_type": "markdown",
      "source": [
        "## Manipulación básica de imágenes"
      ],
      "metadata": {
        "id": "s_42VD0DcADa"
      }
    },
    {
      "cell_type": "code",
      "source": [
        "from PIL import Image, ImageFilter"
      ],
      "metadata": {
        "id": "cEPld4Jocx_r"
      },
      "execution_count": null,
      "outputs": []
    },
    {
      "cell_type": "code",
      "source": [
        "# Abrir un archivo de imagen\n",
        "image = Image.open('image.jpg')\n",
        "\n",
        "# Convertirlo a escala de grises\n",
        "gray_image = image.convert('L')\n",
        "\n",
        "# Aplicar un efecto borroso\n",
        "blurred_image = image.filter(ImageFilter.BLUR)\n",
        "\n",
        "# Guardar la imagen modificada\n",
        "gray_image.save('gray_image.jpg')\n",
        "blurred_image.save('blurred_image.jpg')"
      ],
      "metadata": {
        "id": "203SIMpvcO2q"
      },
      "execution_count": null,
      "outputs": []
    },
    {
      "cell_type": "markdown",
      "source": [
        "## Obetención de textos de un sitio web"
      ],
      "metadata": {
        "id": "1nzuu_k4b_5L"
      }
    },
    {
      "cell_type": "code",
      "source": [
        "import requests"
      ],
      "metadata": {
        "id": "pa2SjXOgcbgq"
      },
      "execution_count": null,
      "outputs": []
    },
    {
      "cell_type": "code",
      "source": [
        "# Hacer un requerimiento GET de internet\n",
        "response = requests.get('https://www.example.com')\n",
        "\n",
        "# Imprimir el contenido HTML de un sitio web\n",
        "print(response.text)\n",
        "\n",
        "# Encontrar el extracto buscado en un pedido\n",
        "start = response.text.find('<title>') + 7\n",
        "end = response.text.find('</title>', start)\n",
        "title = response.text[start:end]\n",
        "print(title)"
      ],
      "metadata": {
        "id": "cInXTuo1cU4i"
      },
      "execution_count": null,
      "outputs": []
    }
  ]
}
