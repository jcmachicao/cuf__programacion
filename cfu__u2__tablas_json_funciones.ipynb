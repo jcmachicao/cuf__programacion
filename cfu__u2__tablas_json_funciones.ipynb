{
  "cells": [
    {
      "cell_type": "markdown",
      "metadata": {
        "id": "view-in-github",
        "colab_type": "text"
      },
      "source": [
        "<a href=\"https://colab.research.google.com/github/jcmachicao/cuf__programacion/blob/main/cfu_u2__tablas_json_funciones.ipynb\" target=\"_parent\"><img src=\"https://colab.research.google.com/assets/colab-badge.svg\" alt=\"Open In Colab\"/></a>"
      ]
    },
    {
      "cell_type": "markdown",
      "id": "62b26a84",
      "metadata": {
        "id": "62b26a84"
      },
      "source": [
        "# 🦸 Actividad 1: Superhéroes (JSON + Funciones)"
      ]
    },
    {
      "cell_type": "code",
      "source": [
        "import json\n",
        "import pandas as pd"
      ],
      "metadata": {
        "id": "q0v9pteekroN"
      },
      "id": "q0v9pteekroN",
      "execution_count": 1,
      "outputs": []
    },
    {
      "cell_type": "code",
      "source": [
        "# Simular archivo heroes.json\n",
        "heroes = [\n",
        "    {\"nombre\": \"Spiderman\", \"poder\": \"Agilidad\", \"nivel\": 85},\n",
        "    {\"nombre\": \"Ironman\", \"poder\": \"Tecnología\", \"nivel\": 90},\n",
        "    {\"nombre\": \"Hulk\", \"poder\": \"Fuerza\", \"nivel\": 95}\n",
        "]"
      ],
      "metadata": {
        "id": "fjdzLWSvkqKa"
      },
      "id": "fjdzLWSvkqKa",
      "execution_count": 2,
      "outputs": []
    },
    {
      "cell_type": "code",
      "source": [
        "def buscar_heroe(nombre):\n",
        "    return next((h for h in heroes if h[\"nombre\"].lower() == nombre.lower()), \"No encontrado\")\n",
        "\n",
        "def heroe_mas_fuerte():\n",
        "    return max(heroes, key=lambda h: h[\"nivel\"])\n",
        "\n",
        "def agregar_heroe(nombre, poder, nivel):\n",
        "    nuevo = {\"nombre\": nombre, \"poder\": poder, \"nivel\": nivel}\n",
        "    heroes.append(nuevo)\n",
        "    return nuevo"
      ],
      "metadata": {
        "id": "M3QXqm46kvHU"
      },
      "id": "M3QXqm46kvHU",
      "execution_count": 3,
      "outputs": []
    },
    {
      "cell_type": "code",
      "execution_count": 4,
      "id": "32cbc620",
      "metadata": {
        "colab": {
          "base_uri": "https://localhost:8080/"
        },
        "id": "32cbc620",
        "outputId": "9171ec63-2aa2-46b6-8698-2e30e2bd457d"
      },
      "outputs": [
        {
          "output_type": "stream",
          "name": "stdout",
          "text": [
            "Tabla de héroes:\n",
            "      nombre       poder  nivel\n",
            "0  Spiderman    Agilidad     85\n",
            "1    Ironman  Tecnología     90\n",
            "2       Hulk      Fuerza     95\n",
            "\n",
            "Buscar Hulk:\n",
            "{'nombre': 'Hulk', 'poder': 'Fuerza', 'nivel': 95}\n",
            "\n",
            "Héroe más fuerte:\n",
            "{'nombre': 'Hulk', 'poder': 'Fuerza', 'nivel': 95}\n"
          ]
        }
      ],
      "source": [
        "# Mostrar tabla\n",
        "df_heroes = pd.DataFrame(heroes)\n",
        "print(\"Tabla de héroes:\")\n",
        "print(df_heroes)\n",
        "\n",
        "# Ejemplo de uso\n",
        "print(\"\\nBuscar Hulk:\")\n",
        "print(buscar_heroe(\"Hulk\"))\n",
        "\n",
        "print(\"\\nHéroe más fuerte:\")\n",
        "print(heroe_mas_fuerte())"
      ]
    },
    {
      "cell_type": "markdown",
      "id": "f5517d53",
      "metadata": {
        "id": "f5517d53"
      },
      "source": [
        "# 🎵 Actividad 2: Canciones del Año (Tablas + Estadísticas)"
      ]
    },
    {
      "cell_type": "code",
      "execution_count": 5,
      "id": "12ef0635",
      "metadata": {
        "colab": {
          "base_uri": "https://localhost:8080/"
        },
        "id": "12ef0635",
        "outputId": "cbe7a6eb-a094-404f-ea22-961e384eccd8"
      },
      "outputs": [
        {
          "output_type": "stream",
          "name": "stdout",
          "text": [
            "Lista de canciones:\n",
            "      titulo       artista  reproducciones\n",
            "0    Flowers   Miley Cyrus       320000000\n",
            "1  As It Was  Harry Styles       290000000\n",
            "\n",
            "Top 1 canción:\n",
            "    titulo      artista  reproducciones\n",
            "0  Flowers  Miley Cyrus       320000000\n",
            "\n",
            "Promedio de reproducciones: 305,000,000\n"
          ]
        }
      ],
      "source": [
        "# Simular archivo canciones.json\n",
        "canciones = [\n",
        "    {\"titulo\": \"Flowers\", \"artista\": \"Miley Cyrus\", \"reproducciones\": 320000000},\n",
        "    {\"titulo\": \"As It Was\", \"artista\": \"Harry Styles\", \"reproducciones\": 290000000}\n",
        "]\n",
        "\n",
        "def top_n_canciones(n):\n",
        "    ordenadas = sorted(canciones, key=lambda x: x[\"reproducciones\"], reverse=True)\n",
        "    return ordenadas[:n]\n",
        "\n",
        "def promedio_reproducciones():\n",
        "    total = sum(c[\"reproducciones\"] for c in canciones)\n",
        "    return total / len(canciones)\n",
        "\n",
        "df_canciones = pd.DataFrame(canciones)\n",
        "print(\"Lista de canciones:\")\n",
        "print(df_canciones)\n",
        "\n",
        "print(\"\\nTop 1 canción:\")\n",
        "print(pd.DataFrame(top_n_canciones(1)))\n",
        "\n",
        "print(f\"\\nPromedio de reproducciones: {promedio_reproducciones():,.0f}\")"
      ]
    },
    {
      "cell_type": "markdown",
      "id": "8e0e12bc",
      "metadata": {
        "id": "8e0e12bc"
      },
      "source": [
        "# 🛒 Actividad 3: Simulación de Tienda Online (Funciones + Stock)"
      ]
    },
    {
      "cell_type": "code",
      "execution_count": 6,
      "id": "502560a5",
      "metadata": {
        "colab": {
          "base_uri": "https://localhost:8080/"
        },
        "id": "502560a5",
        "outputId": "86f98ab9-75a3-450a-d4bd-82e3ec7e111d"
      },
      "outputs": [
        {
          "output_type": "stream",
          "name": "stdout",
          "text": [
            "   id  nombre  precio  stock\n",
            "0   1  Laptop     800      5\n",
            "1   2   Mouse      25     20\n",
            "Venta exitosa: 2 unidad(es) de Laptop\n",
            "   id  nombre  precio  stock\n",
            "0   1  Laptop     800      3\n",
            "1   2   Mouse      25     20\n"
          ]
        }
      ],
      "source": [
        "# Simular archivo productos.json\n",
        "productos = [\n",
        "    {\"id\": 1, \"nombre\": \"Laptop\", \"precio\": 800, \"stock\": 5},\n",
        "    {\"id\": 2, \"nombre\": \"Mouse\", \"precio\": 25, \"stock\": 20}\n",
        "]\n",
        "\n",
        "def buscar_producto(pid):\n",
        "    return next((p for p in productos if p[\"id\"] == pid), None)\n",
        "\n",
        "def vender_producto(pid, cantidad):\n",
        "    producto = buscar_producto(pid)\n",
        "    if producto:\n",
        "        if producto[\"stock\"] >= cantidad:\n",
        "            producto[\"stock\"] -= cantidad\n",
        "            print(f\"Venta exitosa: {cantidad} unidad(es) de {producto['nombre']}\")\n",
        "        else:\n",
        "            print(\"Stock insuficiente.\")\n",
        "    else:\n",
        "        print(\"Producto no encontrado.\")\n",
        "\n",
        "def mostrar_tabla():\n",
        "    df_productos = pd.DataFrame(productos)\n",
        "    print(df_productos)\n",
        "\n",
        "mostrar_tabla()\n",
        "vender_producto(1, 2)\n",
        "mostrar_tabla()\n"
      ]
    }
  ],
  "metadata": {
    "colab": {
      "provenance": [],
      "include_colab_link": true
    },
    "language_info": {
      "name": "python"
    },
    "kernelspec": {
      "name": "python3",
      "display_name": "Python 3"
    }
  },
  "nbformat": 4,
  "nbformat_minor": 5
}
