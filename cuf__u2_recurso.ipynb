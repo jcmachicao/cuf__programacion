{
  "nbformat": 4,
  "nbformat_minor": 0,
  "metadata": {
    "colab": {
      "provenance": [],
      "authorship_tag": "ABX9TyM75C5HL/jDO64h9ThbikhR",
      "include_colab_link": true
    },
    "kernelspec": {
      "name": "python3",
      "display_name": "Python 3"
    },
    "language_info": {
      "name": "python"
    }
  },
  "cells": [
    {
      "cell_type": "markdown",
      "metadata": {
        "id": "view-in-github",
        "colab_type": "text"
      },
      "source": [
        "<a href=\"https://colab.research.google.com/github/jcmachicao/cuf__programacion/blob/main/cuf__u2_recurso.ipynb\" target=\"_parent\"><img src=\"https://colab.research.google.com/assets/colab-badge.svg\" alt=\"Open In Colab\"/></a>"
      ]
    },
    {
      "cell_type": "markdown",
      "source": [
        "Continental University of Florida <br>\n",
        "Técnicas de Programación <br>\n",
        "### Unidad 2 <br>\n",
        "# Introducción a Tipos de Datos"
      ],
      "metadata": {
        "id": "2v8tRqwh_zZu"
      }
    },
    {
      "cell_type": "markdown",
      "source": [
        "## Ejemplo 1: Datos Numéricos"
      ],
      "metadata": {
        "id": "lqpqWr1r_v6v"
      }
    },
    {
      "cell_type": "code",
      "execution_count": 1,
      "metadata": {
        "id": "ywvs01xR_qcr"
      },
      "outputs": [],
      "source": [
        "x = 4"
      ]
    },
    {
      "cell_type": "code",
      "source": [
        "# Hacemos una operación con la variable\n",
        "y = 4 * 12\n",
        "print(y)"
      ],
      "metadata": {
        "colab": {
          "base_uri": "https://localhost:8080/"
        },
        "id": "I_X83rdQAMg1",
        "outputId": "338b3fa4-0d69-4d25-a8d6-7b7a9279cf62"
      },
      "execution_count": 2,
      "outputs": [
        {
          "output_type": "stream",
          "name": "stdout",
          "text": [
            "48\n"
          ]
        }
      ]
    },
    {
      "cell_type": "markdown",
      "source": [
        "## Ejemplo 2: Listas de datos"
      ],
      "metadata": {
        "id": "S5rHy_d1A0EF"
      }
    },
    {
      "cell_type": "code",
      "source": [
        "lista_A = [2, 4, 6, 8, 12]\n",
        "\n",
        "# Las listas de valores en Python tienen posiciones desde 0 hasta números enteros mayores\n",
        "# Por ejemplo la posición 3 es donde está el número 8\n",
        "# La posición 0 es donde está el número 2"
      ],
      "metadata": {
        "id": "aroaK2XeA4He"
      },
      "execution_count": 4,
      "outputs": []
    },
    {
      "cell_type": "code",
      "source": [
        "# Si pedimos imprimir la posición 3:\n",
        "print(lista_A[3])"
      ],
      "metadata": {
        "colab": {
          "base_uri": "https://localhost:8080/"
        },
        "id": "WBMQZb7pBi8O",
        "outputId": "72195801-b4b3-49c2-8e48-d95cb9000ce5"
      },
      "execution_count": 5,
      "outputs": [
        {
          "output_type": "stream",
          "name": "stdout",
          "text": [
            "8\n"
          ]
        }
      ]
    },
    {
      "cell_type": "code",
      "source": [
        "# Si pedimos imprimir la posición 0:\n",
        "print(lista_A[0])"
      ],
      "metadata": {
        "colab": {
          "base_uri": "https://localhost:8080/"
        },
        "id": "CiW6oj68BsNV",
        "outputId": "24c42d01-7210-46a9-fef1-8756764cf307"
      },
      "execution_count": 6,
      "outputs": [
        {
          "output_type": "stream",
          "name": "stdout",
          "text": [
            "2\n"
          ]
        }
      ]
    },
    {
      "cell_type": "markdown",
      "source": [
        "## Ejemplo 3: Matrices para hacer operaciones matemáticas"
      ],
      "metadata": {
        "id": "mNyTSHG2B3T9"
      }
    },
    {
      "cell_type": "code",
      "source": [
        "# Si multiplicamos la lista_A por 2 tendremos una sorpresa, porque no multiplica los números por dos, sino que duplica la lista\n",
        "lista_A * 2"
      ],
      "metadata": {
        "colab": {
          "base_uri": "https://localhost:8080/"
        },
        "id": "pv73O8VqB2lN",
        "outputId": "b5f92c50-e759-4bf2-a461-af774f0a09bf"
      },
      "execution_count": 7,
      "outputs": [
        {
          "output_type": "execute_result",
          "data": {
            "text/plain": [
              "[2, 4, 6, 8, 12, 2, 4, 6, 8, 12]"
            ]
          },
          "metadata": {},
          "execution_count": 7
        }
      ]
    },
    {
      "cell_type": "code",
      "source": [
        "# Para poder multiplicar los números de una lista por 2, matemáticamente, es necesario convertir la lista en una matriz\n",
        "# Para eso primero se importa la librería que permite procesar matrices: Numpy\n",
        "import numpy as np"
      ],
      "metadata": {
        "id": "kzF4kFYQCOfF"
      },
      "execution_count": 8,
      "outputs": []
    },
    {
      "cell_type": "code",
      "source": [
        "# Luego se convierte la lista en una matriz\n",
        "matriz_A = np.array(lista_A)\n",
        "print(matriz_A)"
      ],
      "metadata": {
        "colab": {
          "base_uri": "https://localhost:8080/"
        },
        "id": "mx1GffEKChu1",
        "outputId": "a4339ad3-4eda-4bed-fe35-f5b1789d5a82"
      },
      "execution_count": 9,
      "outputs": [
        {
          "output_type": "stream",
          "name": "stdout",
          "text": [
            "[ 2  4  6  8 12]\n"
          ]
        }
      ]
    },
    {
      "cell_type": "code",
      "source": [
        "# Y ahora sí podremos multiplicarla por un número\n",
        "matriz_B = matriz_A * 3\n",
        "print(matriz_B)"
      ],
      "metadata": {
        "colab": {
          "base_uri": "https://localhost:8080/"
        },
        "id": "281uNdwGCsw1",
        "outputId": "edf3a2f7-1e15-43c5-ea50-36b6d76aa5b9"
      },
      "execution_count": 10,
      "outputs": [
        {
          "output_type": "stream",
          "name": "stdout",
          "text": [
            "[ 6 12 18 24 36]\n"
          ]
        }
      ]
    },
    {
      "cell_type": "markdown",
      "source": [
        "### Tipos de Datos en Python\n",
        "Algunos de los tipos de datos más usados en Python están explicados en la tabla.\n",
        "\n",
        "| Tipo de Dato  | Descripción |\n",
        "|---------------|-------------|\n",
        "| ``bool_``     | Boolean (True or False) se guarda como byte |\n",
        "| ``int_``      | Entero por defecto (same as C ``long``; normally either ``int64`` or ``int32``)| \n",
        "| ``intc``      | Identical to C ``int`` (normally ``int32`` or ``int64``)| \n",
        "| ``intp``      | Integer used for indexing (same as C ``ssize_t``; normally either ``int32`` or ``int64``)| \n",
        "| ``int8``      | Byte (-128 to 127)| \n",
        "| ``int16``     | Integer (-32768 to 32767)|\n",
        "| ``int32``     | Integer (-2147483648 to 2147483647)|\n",
        "| ``int64``     | Integer (-9223372036854775808 to 9223372036854775807)| \n",
        "| ``uint8``     | Unsigned integer (0 to 255)| \n",
        "| ``uint16``    | Unsigned integer (0 to 65535)| \n",
        "| ``uint32``    | Unsigned integer (0 to 4294967295)| \n",
        "| ``uint64``    | Unsigned integer (0 to 18446744073709551615)| \n",
        "| ``float_``    | Shorthand for ``float64``.| \n",
        "| ``float16``   | Half precision float: sign bit, 5 bits exponent, 10 bits mantissa| \n",
        "| ``float32``   | Single precision float: sign bit, 8 bits exponent, 23 bits mantissa| \n",
        "| ``float64``   | Double precision float: sign bit, 11 bits exponent, 52 bits mantissa| \n",
        "| ``complex_``  | Shorthand for ``complex128``.| \n",
        "| ``complex64`` | Complex number, represented by two 32-bit floats| \n",
        "| ``complex128``| Complex number, represented by two 64-bit floats| "
      ],
      "metadata": {
        "id": "5QESsf7UC-4d"
      }
    }
  ]
}